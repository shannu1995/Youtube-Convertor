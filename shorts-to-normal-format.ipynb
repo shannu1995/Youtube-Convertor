{
 "cells": [
  {
   "cell_type": "code",
   "execution_count": 5,
   "metadata": {},
   "outputs": [],
   "source": [
    "import pyautogui as pgui\n",
    "import subprocess as sp\n",
    "import re\n",
    "input_url = pgui.prompt(text=\"Please enter the original URL\", title=\"URL Shortener\")\n",
    "if not re.match(r\"^https://www.youtube.com/shorts/\", input_url):\n",
    "    pgui.alert(text=\"The URL is not a valid YouTube Shorts URL\", title=\"URL Shortener\")\n",
    "else:   \n",
    "    video_id = input_url.split(\"/\")[-1]\n",
    "    if re.match(r\"\\?feture=share$\", video_id):\n",
    "        video_id = video_id.split(\"?\")[0]\n",
    "    new_url = f\"https://www.youtube.com/watch?v={video_id}\"\n",
    "    pgui.alert(text=\"The new URL is has been copied to the clipboard.\\n Please enjoy!\", title=\"URL Shortener\")\n",
    "    sp.run(['clip.exe'], input=new_url.encode('UTF-16LE'), check=True)"
   ]
  }
 ],
 "metadata": {
  "kernelspec": {
   "display_name": "Python 3",
   "language": "python",
   "name": "python3"
  },
  "language_info": {
   "codemirror_mode": {
    "name": "ipython",
    "version": 3
   },
   "file_extension": ".py",
   "mimetype": "text/x-python",
   "name": "python",
   "nbconvert_exporter": "python",
   "pygments_lexer": "ipython3",
   "version": "3.12.1"
  }
 },
 "nbformat": 4,
 "nbformat_minor": 2
}
